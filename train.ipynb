{
 "cells": [
  {
   "cell_type": "code",
   "execution_count": 31,
   "metadata": {},
   "outputs": [],
   "source": [
    "import numpy as np\n",
    "import pandas as pd\n",
    "from keras import layers\n",
    "from keras.layers import Input, Dense, Activation, ZeroPadding2D, BatchNormalization, Flatten, Conv2D\n",
    "from keras.layers import AveragePooling2D, MaxPooling2D, Dropout\n",
    "from keras.utils import np_utils\n",
    "from keras.models import Sequential\n",
    "from keras.callbacks import ModelCheckpoint"
   ]
  },
  {
   "cell_type": "code",
   "execution_count": 32,
   "metadata": {},
   "outputs": [],
   "source": [
    "def train_model(image_x, image_y):\n",
    "    num_of_classes = 12\n",
    "    model = Sequential()\n",
    "    model.add(Conv2D(32, (5,5), activation='relu', input_shape=(image_x, image_y, 1)))\n",
    "    model.add(MaxPooling2D((2,2), padding='same'))\n",
    "    model.add(Conv2D(64, (5,5), activation='relu'))\n",
    "    model.add(MaxPooling2D((2,2), padding='same'))\n",
    "    model.add(Flatten())\n",
    "    model.add(Dense(1024, activation='relu'))\n",
    "    model.add(Dense(num_of_classes, activation='softmax'))\n",
    "#     model.compile(loss='categorical_crossentropy', optimizer='adam', metrics=['accuray'])\n",
    "    model.compile(loss='categorical_crossentropy', optimizer='adam', metrics=['accuracy'] )\n",
    "    filepath = 'emojinator.h5'\n",
    "    checkpoint1 = ModelCheckpoint(filepath, monitor='val_acc', verbose=1, save_best_only=True, mode='max')\n",
    "    callbacks_list = [checkpoint1]\n",
    "    model.summary()\n",
    "    return model, callbacks_list"
   ]
  },
  {
   "cell_type": "code",
   "execution_count": 35,
   "metadata": {},
   "outputs": [],
   "source": [
    "def main():\n",
    "    data = pd.read_csv('train_foo1.csv')\n",
    "    dataset = np.array(data)\n",
    "    np.random.shuffle(dataset)\n",
    "    \n",
    "    X = dataset\n",
    "    Y = dataset\n",
    "    \n",
    "    X = X[:, 1:2501]\n",
    "    Y = Y[:,0]\n",
    "    \n",
    "    X_train = X[0:12000, :]\n",
    "    X_train = X_train/255\n",
    "    \n",
    "    X_test = X[12000:13201, :]\n",
    "    X_test = X_test/255\n",
    "    \n",
    "    Y = Y.reshape(Y.shape[0], 1)\n",
    "    \n",
    "    Y_train = Y[0:12000,:]\n",
    "    Y_train = Y_train.T\n",
    "    \n",
    "    Y_test = Y[12000:13201,:]\n",
    "    Y_test = Y_test.T\n",
    "    \n",
    "    print('no. of training example: '+ str(X_train.shape[0]))\n",
    "    print('no. of test examples: '+ str(X_test.shape[0]))\n",
    "    print('X_train shape: '+str(X_train.shape))\n",
    "    print('X_test shape: '+str(X_test.shape))\n",
    "    print('y_train shape: '+ str(Y_train.shape))\n",
    "    print('Y_test shape: '+str(Y_test.shape))\n",
    "    \n",
    "    image_x = 50\n",
    "    image_y = 50\n",
    "    \n",
    "    train_y = np_utils.to_categorical(Y_train)\n",
    "    test_y = np_utils.to_categorical(Y_test)\n",
    "    \n",
    "    train_y = train_y.reshape(train_y.shape[1], train_y.shape[2])\n",
    "    test_y = test_y.reshape(test_y.shape[1], test_y.shape[2])\n",
    "    \n",
    "    X_train = X_train.reshape(X_train.shape[0], 50, 50, 1)\n",
    "    X_test = X_test.reshape(X_test.shape[0], 50, 50, 1)\n",
    "    \n",
    "    print('X_train shape: '+str(X_train.shape))\n",
    "    print('X_test shape: '+str(X_test.shape))\n",
    "    print('train_y shape: '+ str(train_y.shape))\n",
    "    print('test_y shape: '+str(test_y.shape))\n",
    "    \n",
    "    model, callbacks_list = train_model(image_x, image_y)\n",
    "    model.fit(X_train, train_y,\n",
    "             validation_data=(X_test, test_y),\n",
    "             epochs=10,\n",
    "             batch_size = 64,\n",
    "             callbacks = callbacks_list)\n",
    "    scores = model.evaluate(X_test, test_y, verbose=0)\n",
    "    print(\"CNN Error: %.2f%%\" %(100-scores[1]*100))\n",
    "    \n",
    "    model.save('emojinator.h5')\n",
    "    \n",
    "\n",
    "    "
   ]
  },
  {
   "cell_type": "code",
   "execution_count": 36,
   "metadata": {},
   "outputs": [
    {
     "name": "stdout",
     "output_type": "stream",
     "text": [
      "no. of training example: 12000\n",
      "no. of test examples: 1199\n",
      "X_train shape: (12000, 2500)\n",
      "X_test shape: (1199, 2500)\n",
      "y_train shape: (1, 12000)\n",
      "Y_test shape: (1, 1199)\n",
      "X_train shape: (12000, 50, 50, 1)\n",
      "X_test shape: (1199, 50, 50, 1)\n",
      "train_y shape: (12000, 12)\n",
      "test_y shape: (1199, 12)\n",
      "Model: \"sequential_6\"\n",
      "_________________________________________________________________\n",
      "Layer (type)                 Output Shape              Param #   \n",
      "=================================================================\n",
      "conv2d_9 (Conv2D)            (None, 46, 46, 32)        832       \n",
      "_________________________________________________________________\n",
      "max_pooling2d_9 (MaxPooling2 (None, 23, 23, 32)        0         \n",
      "_________________________________________________________________\n",
      "conv2d_10 (Conv2D)           (None, 19, 19, 64)        51264     \n",
      "_________________________________________________________________\n",
      "max_pooling2d_10 (MaxPooling (None, 10, 10, 64)        0         \n",
      "_________________________________________________________________\n",
      "flatten_4 (Flatten)          (None, 6400)              0         \n",
      "_________________________________________________________________\n",
      "dense_7 (Dense)              (None, 1024)              6554624   \n",
      "_________________________________________________________________\n",
      "dense_8 (Dense)              (None, 12)                12300     \n",
      "=================================================================\n",
      "Total params: 6,619,020\n",
      "Trainable params: 6,619,020\n",
      "Non-trainable params: 0\n",
      "_________________________________________________________________\n",
      "Train on 12000 samples, validate on 1199 samples\n",
      "Epoch 1/10\n",
      "12000/12000 [==============================] - 5s 391us/step - loss: 0.0550 - accuracy: 0.9838 - val_loss: 5.6133e-05 - val_accuracy: 1.0000\n",
      "Epoch 2/10\n",
      "  448/12000 [>.............................] - ETA: 4s - loss: 9.1142e-06 - accuracy: 1.0000"
     ]
    },
    {
     "name": "stderr",
     "output_type": "stream",
     "text": [
      "D:\\anaconda\\envs\\tf-gpu\\lib\\site-packages\\keras\\callbacks\\callbacks.py:707: RuntimeWarning: Can save best model only with val_acc available, skipping.\n",
      "  'skipping.' % (self.monitor), RuntimeWarning)\n"
     ]
    },
    {
     "name": "stdout",
     "output_type": "stream",
     "text": [
      "12000/12000 [==============================] - 5s 377us/step - loss: 2.2270e-05 - accuracy: 1.0000 - val_loss: 2.2009e-05 - val_accuracy: 1.0000\n",
      "Epoch 3/10\n",
      "12000/12000 [==============================] - 5s 378us/step - loss: 8.2246e-06 - accuracy: 1.0000 - val_loss: 1.1529e-05 - val_accuracy: 1.0000\n",
      "Epoch 4/10\n",
      "12000/12000 [==============================] - 5s 378us/step - loss: 4.5041e-06 - accuracy: 1.0000 - val_loss: 7.3775e-06 - val_accuracy: 1.0000\n",
      "Epoch 5/10\n",
      "12000/12000 [==============================] - 5s 378us/step - loss: 2.8231e-06 - accuracy: 1.0000 - val_loss: 5.4982e-06 - val_accuracy: 1.0000\n",
      "Epoch 6/10\n",
      "12000/12000 [==============================] - 5s 377us/step - loss: 1.9413e-06 - accuracy: 1.0000 - val_loss: 4.2589e-06 - val_accuracy: 1.0000\n",
      "Epoch 7/10\n",
      "12000/12000 [==============================] - 5s 377us/step - loss: 1.4251e-06 - accuracy: 1.0000 - val_loss: 3.4178e-06 - val_accuracy: 1.0000\n",
      "Epoch 8/10\n",
      "12000/12000 [==============================] - 5s 381us/step - loss: 1.0872e-06 - accuracy: 1.0000 - val_loss: 2.7937e-06 - val_accuracy: 1.0000\n",
      "Epoch 9/10\n",
      "12000/12000 [==============================] - 5s 377us/step - loss: 8.5373e-07 - accuracy: 1.0000 - val_loss: 2.2538e-06 - val_accuracy: 1.0000\n",
      "Epoch 10/10\n",
      "12000/12000 [==============================] - 5s 376us/step - loss: 6.9387e-07 - accuracy: 1.0000 - val_loss: 1.9517e-06 - val_accuracy: 1.0000\n",
      "CNN Error: 0.00%\n"
     ]
    }
   ],
   "source": [
    "main()"
   ]
  },
  {
   "cell_type": "code",
   "execution_count": null,
   "metadata": {},
   "outputs": [],
   "source": []
  }
 ],
 "metadata": {
  "kernelspec": {
   "display_name": "Python 3",
   "language": "python",
   "name": "python3"
  },
  "language_info": {
   "codemirror_mode": {
    "name": "ipython",
    "version": 3
   },
   "file_extension": ".py",
   "mimetype": "text/x-python",
   "name": "python",
   "nbconvert_exporter": "python",
   "pygments_lexer": "ipython3",
   "version": "3.7.5"
  }
 },
 "nbformat": 4,
 "nbformat_minor": 2
}
